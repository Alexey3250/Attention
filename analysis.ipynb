{
 "cells": [
  {
   "cell_type": "code",
   "execution_count": 1,
   "metadata": {},
   "outputs": [
    {
     "name": "stdout",
     "output_type": "stream",
     "text": [
      "WARNING:tensorflow:From c:\\Users\\Alex\\AppData\\Local\\Programs\\Python\\Python310\\lib\\site-packages\\keras\\src\\losses.py:2976: The name tf.losses.sparse_softmax_cross_entropy is deprecated. Please use tf.compat.v1.losses.sparse_softmax_cross_entropy instead.\n",
      "\n"
     ]
    }
   ],
   "source": [
    "import sys\n",
    "import tensorflow as tf\n",
    "\n",
    "from PIL import Image, ImageDraw, ImageFont\n",
    "from transformers import AutoTokenizer, TFBertForMaskedLM\n",
    "\n",
    "# Pre-trained masked language model\n",
    "MODEL = \"bert-base-uncased\"\n",
    "\n",
    "# Number of predictions to generate\n",
    "K = 3\n",
    "\n",
    "# Constants for generating attention diagrams\n",
    "FONT = ImageFont.truetype(\"assets/fonts/OpenSans-Regular.ttf\", 28)\n",
    "GRID_SIZE = 40\n",
    "PIXELS_PER_WORD = 200"
   ]
  },
  {
   "cell_type": "code",
   "execution_count": null,
   "metadata": {},
   "outputs": [],
   "source": []
  }
 ],
 "metadata": {
  "kernelspec": {
   "display_name": "Python 3",
   "language": "python",
   "name": "python3"
  },
  "language_info": {
   "codemirror_mode": {
    "name": "ipython",
    "version": 3
   },
   "file_extension": ".py",
   "mimetype": "text/x-python",
   "name": "python",
   "nbconvert_exporter": "python",
   "pygments_lexer": "ipython3",
   "version": "3.10.11"
  }
 },
 "nbformat": 4,
 "nbformat_minor": 2
}
